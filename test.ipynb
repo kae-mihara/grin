{
 "cells": [
  {
   "cell_type": "code",
   "execution_count": 1,
   "metadata": {},
   "outputs": [],
   "source": [
    "import sys\n",
    "import os\n",
    "sys.path.append(os.path.abspath('.'))"
   ]
  },
  {
   "cell_type": "code",
   "execution_count": null,
   "metadata": {},
   "outputs": [],
   "source": [
    "import lib as grin"
   ]
  },
  {
   "cell_type": "code",
   "execution_count": null,
   "metadata": {},
   "outputs": [],
   "source": [
    "from lib import datasets"
   ]
  },
  {
   "cell_type": "code",
   "execution_count": null,
   "metadata": {},
   "outputs": [],
   "source": [
    "from lib.utils import numpy_metrics\n",
    "from lib.utils.parser_utils import str_to_bool\n",
    "\n",
    "metrics = {\n",
    "    'mae': numpy_metrics.masked_mae,\n",
    "    'mse': numpy_metrics.masked_mse,\n",
    "    'mre': numpy_metrics.masked_mre,\n",
    "    'mape': numpy_metrics.masked_mape\n",
    "}\n"
   ]
  },
  {
   "cell_type": "code",
   "execution_count": null,
   "metadata": {},
   "outputs": [],
   "source": []
  },
  {
   "cell_type": "code",
   "execution_count": null,
   "metadata": {},
   "outputs": [],
   "source": [
    "import pandas as pd\n",
    "df_air = pd.HDFStore('/home/jhzhou/repos/tourism-imputation/data/grin-data/air_quality/small36.h5')"
   ]
  },
  {
   "cell_type": "code",
   "execution_count": null,
   "metadata": {},
   "outputs": [],
   "source": [
    "df_air.groups()"
   ]
  },
  {
   "cell_type": "code",
   "execution_count": null,
   "metadata": {},
   "outputs": [],
   "source": [
    "df_air['eval_mask']"
   ]
  },
  {
   "cell_type": "code",
   "execution_count": null,
   "metadata": {},
   "outputs": [],
   "source": [
    "import pandas as pd\n",
    "import numpy as np\n",
    "#import matplotlib.pyplot as plt\n",
    "from pathlib import Path\n",
    "\n",
    "data_path = Path('../../data/open-data/HK2012-2018/')\n",
    "df_au = pd.read_csv(data_path / 'Australia.csv')\n",
    "df_au['date'] = pd.to_datetime(df_au['date'])\n",
    "df_au.set_index('date', inplace=True)\n",
    "df_au.head()"
   ]
  },
  {
   "attachments": {},
   "cell_type": "markdown",
   "metadata": {},
   "source": [
    "## Dataset Test"
   ]
  },
  {
   "cell_type": "code",
   "execution_count": null,
   "metadata": {},
   "outputs": [],
   "source": [
    "import numpy as np\n",
    "import pandas as pd\n",
    "import lib as grin\n",
    "from lib.datasets.pd_dataset import PandasDataset\n",
    "from lib.utils import compute_mean\n",
    "dataset_path = '../../data/open-data/HK2012-2018/Australia.csv'\n",
    "mask_path = '../../data/masks/block5.npy'\n",
    "\n",
    "country = 'au'\n",
    "\n",
    "class ArrivalDataset(PandasDataset):\n",
    "    SEED = 1145\n",
    "    \n",
    "    def __init__(self, impute_nans=True, small=False, freq='MS'):\n",
    "        self.random = np.random.default_rng(self.SEED)\n",
    "        self.eval_mask = None\n",
    "        df, mask = self.load(impute_nans=impute_nans, small=small)\n",
    "        df = df.astype('float32')\n",
    "        super().__init__(dataframe=df, u=None, mask=mask, name='arrival', freq=freq, aggr='nearest')\n",
    "\n",
    "    def load_raw(self, small=False):\n",
    "        df = pd.read_csv(dataset_path, index_col=0, parse_dates=True)\n",
    "        mask = np.load(mask_path)\n",
    "        return df, mask\n",
    "\n",
    "\n",
    "    def load(self, impute_nans=True, small=False):\n",
    "        # load readings and stations metadata\n",
    "        df, eval_mask = self.load_raw(small)\n",
    "        # compute the masks\n",
    "        mask = (~np.isnan(df.values)).astype('uint8')  # 1 if value is not nan else 0\n",
    "\n",
    "        eval_mask = eval_mask.astype('uint8')\n",
    "        self.eval_mask = eval_mask  # 1 if value is ground-truth for imputation else 0\n",
    "        # eventually replace nans with weekly mean by hour\n",
    "        if impute_nans:\n",
    "            df = df.fillna(compute_mean(df))\n",
    "        # compute distances from latitude and longitude degrees\n",
    "        return df, mask\n",
    "\n",
    "    def splitter(self, dataset, val_len=1., in_sample=False, window=0):\n",
    "        if in_sample:\n",
    "            train_idxs = np.arange(len(dataset))\n",
    "        else:\n",
    "            val_len = 12\n",
    "            test_len = 24\n",
    "            train_idxs = np.arange(len(dataset) - val_len - test_len)\n",
    "            val_idxs = np.arange(len(train_idxs), len(dataset) - test_len)\n",
    "            test_idxs = np.arange(len(dataset) - test_len, len(dataset))\n",
    "        return [train_idxs, val_idxs, test_idxs]\n",
    "\n",
    "    def get_similarity(self):\n",
    "        N = len(self.df)\n",
    "        return np.ones(N, N) - np.identity(N) \n",
    "\n",
    "    @property\n",
    "    def mask(self):\n",
    "        return self._mask\n",
    "\n",
    "    @property\n",
    "    def training_mask(self):\n",
    "        return self._mask if self.eval_mask is None else (self._mask & (1 - self.eval_mask))\n",
    "\n",
    "    def test_interval_mask(self, dtype=bool, squeeze=True):\n",
    "        m = np.in1d(self.df.index.month, self.test_months).astype(dtype)\n",
    "        if squeeze:\n",
    "            return m\n",
    "        return m[:, None]"
   ]
  },
  {
   "cell_type": "code",
   "execution_count": null,
   "metadata": {},
   "outputs": [],
   "source": [
    "arrival = ArrivalDataset()"
   ]
  },
  {
   "cell_type": "code",
   "execution_count": null,
   "metadata": {},
   "outputs": [],
   "source": [
    "from lib.datasets import AirQuality\n",
    "air = AirQuality()"
   ]
  },
  {
   "cell_type": "code",
   "execution_count": null,
   "metadata": {},
   "outputs": [],
   "source": [
    "arrival.numpy().dtype"
   ]
  },
  {
   "attachments": {},
   "cell_type": "markdown",
   "metadata": {},
   "source": [
    "## Splitter Test"
   ]
  },
  {
   "cell_type": "code",
   "execution_count": null,
   "metadata": {},
   "outputs": [],
   "source": [
    "dataset = arrival"
   ]
  },
  {
   "cell_type": "code",
   "execution_count": null,
   "metadata": {},
   "outputs": [],
   "source": [
    "from lib.data.imputation_dataset import ImputationDataset, GraphImputationDataset\n",
    "from lib.nn import models\n",
    "from lib import fillers, datasets, config\n",
    "\n",
    "def has_graph_support(model_cls):\n",
    "    return model_cls in [models.GRINet, models.MPGRUNet, models.BiMPGRUNet]\n",
    "model_cls, filler_cls = models.GRINet, fillers.GraphFiller\n",
    "dataset_cls = GraphImputationDataset if has_graph_support(model_cls) else ImputationDataset\n",
    "torch_dataset = dataset_cls(*dataset.numpy(return_idx=True),\n",
    "                            mask=dataset.training_mask,\n",
    "                            eval_mask=dataset.eval_mask,\n",
    "                            window=12,\n",
    "                            stride=1)\n",
    "\n",
    "idxs = dataset.splitter(torch_dataset, val_len=0.1, in_sample=False, window=0)"
   ]
  },
  {
   "cell_type": "code",
   "execution_count": null,
   "metadata": {},
   "outputs": [],
   "source": [
    "torch_dataset[0][0]['x'].shape"
   ]
  },
  {
   "cell_type": "code",
   "execution_count": null,
   "metadata": {},
   "outputs": [],
   "source": [
    "idxs"
   ]
  },
  {
   "cell_type": "code",
   "execution_count": null,
   "metadata": {},
   "outputs": [],
   "source": [
    "torch_dataset.data"
   ]
  },
  {
   "attachments": {},
   "cell_type": "markdown",
   "metadata": {},
   "source": [
    "# Mask Test"
   ]
  },
  {
   "cell_type": "code",
   "execution_count": 4,
   "metadata": {},
   "outputs": [],
   "source": [
    "import lib as grin\n",
    "from lib.utils import sample_mask\n",
    "import pandas as pd\n",
    "import numpy as np\n",
    "arrival = pd.read_csv('/home/jhzhou/repos/tourism-imputation/data/open-data/HK2012-2018/Australia.csv', index_col=0, parse_dates=True)\n",
    "n, m = arrival.shape\n",
    "mask_shape = (n - 1, m)"
   ]
  },
  {
   "cell_type": "code",
   "execution_count": 5,
   "metadata": {},
   "outputs": [
    {
     "name": "stdout",
     "output_type": "stream",
     "text": [
      "<class 'pandas.core.frame.DataFrame'>\n",
      "DatetimeIndex: 84 entries, 2012-01-01 to 2018-12-01\n",
      "Data columns (total 97 columns):\n",
      " #   Column                                      Non-Null Count  Dtype\n",
      "---  ------                                      --------------  -----\n",
      " 0   arrival                                     84 non-null     int64\n",
      " 1   Hong kong                                   84 non-null     int64\n",
      " 2   Hong kong dollar                            84 non-null     int64\n",
      " 3   Sheung Wan                                  84 non-null     int64\n",
      " 4   Tai Ping Shan Street                        84 non-null     int64\n",
      " 5   Hong kong central                           84 non-null     int64\n",
      " 6   Hong Kong Disneyland                        84 non-null     int64\n",
      " 7   hong kong dollar to rmb                     84 non-null     int64\n",
      " 8   hkd to usd                                  84 non-null     int64\n",
      " 9   Hong Kong cuisine                           84 non-null     int64\n",
      " 10  hong kong food                              84 non-null     int64\n",
      " 11  hong kong yum cha                           84 non-null     int64\n",
      " 12  hong kong best food                         84 non-null     int64\n",
      " 13  hong kong chinese food                      84 non-null     int64\n",
      " 14  hong kong food blog                         84 non-null     int64\n",
      " 15  hong kong hotel                             84 non-null     int64\n",
      " 16  silka hotel hong kong                       84 non-null     int64\n",
      " 17  hotel hong kong kowloon                     84 non-null     int64\n",
      " 18  crowne plaza hong kong kowloon east         84 non-null     int64\n",
      " 19  Grand Hyatt Hong Kong                       84 non-null     int64\n",
      " 20  airbnb                                      84 non-null     int64\n",
      " 21  hong kong accommodation                     84 non-null     int64\n",
      " 22  flights to hong kong                        84 non-null     int64\n",
      " 23  cathay pacific                              84 non-null     int64\n",
      " 24  hong kong to macau travel time              84 non-null     int64\n",
      " 25  hong kong macau ferry                       84 non-null     int64\n",
      " 26  hong kong airport to macau                  84 non-null     int64\n",
      " 27  hong kong ferry terminal                    84 non-null     int64\n",
      " 28  ferry macau to hong kong airport            84 non-null     int64\n",
      " 29  hong kong ferry                             84 non-null     int64\n",
      " 30  hongkong macau                              84 non-null     int64\n",
      " 31  hong kong airport                           84 non-null     int64\n",
      " 32  hong kong airport express                   84 non-null     int64\n",
      " 33  hong kong mtr hours                         84 non-null     int64\n",
      " 34  hong kong Transportation                    84 non-null     int64\n",
      " 35  air asia                                    84 non-null     int64\n",
      " 36  Hong Kong Airlines                          84 non-null     int64\n",
      " 37  agoda hong kong                             84 non-null     int64\n",
      " 38  asia travel hong kong                       84 non-null     int64\n",
      " 39  ocean park hong kong                        84 non-null     int64\n",
      " 40  hong kong map                               84 non-null     int64\n",
      " 41  singapore to hong kong                      84 non-null     int64\n",
      " 42  china mainland to hong kong                 84 non-null     int64\n",
      " 43  hong kong light show                        84 non-null     int64\n",
      " 44  skyscanner                                  84 non-null     int64\n",
      " 45  ladies market hong kong opening hours       84 non-null     int64\n",
      " 46  Shopping in Hong Kong                       84 non-null     int64\n",
      " 47  citygate outlet                             84 non-null     int64\n",
      " 48  hong kong shopping festival                 84 non-null     int64\n",
      " 49  hong kong casino                            84 non-null     int64\n",
      " 50  what to do in hong kong                     84 non-null     int64\n",
      " 51  nightlife hong kong                         84 non-null     int64\n",
      " 52  hong kong clubs                             84 non-null     int64\n",
      " 53  lan kwai fong                               84 non-null     int64\n",
      " 54  hong kong weather                           84 non-null     int64\n",
      " 55  occupy central                              84 non-null     int64\n",
      " 56  hongkong customs                            84 non-null     int64\n",
      " 57  hong kong cheap flight                      84 non-null     int64\n",
      " 58  Avenue of Stars                             84 non-null     int64\n",
      " 59  travel Tsim Sha Tsui                        84 non-null     int64\n",
      " 60  hong kong dollar to                         84 non-null     int64\n",
      " 61  hong kong currency                          84 non-null     int64\n",
      " 62  hong kong restaurant                        84 non-null     int64\n",
      " 63  hong kong travel                            84 non-null     int64\n",
      " 64  travel to Hong Kong                         84 non-null     int64\n",
      " 65  hong kong michelin                          84 non-null     int64\n",
      " 66  hong kong hotel central                     84 non-null     int64\n",
      " 67  hong kong hotel central.1                   84 non-null     int64\n",
      " 68  hong kong macao                             84 non-null     int64\n",
      " 69  hong kong asian                             84 non-null     int64\n",
      " 70  Hong Kong television drama                  84 non-null     int64\n",
      " 71  thai to hong kong                           84 non-null     int64\n",
      " 72  macau to hong kong                          84 non-null     int64\n",
      " 73  china hong kong                             84 non-null     int64\n",
      " 74  map hong kong                               84 non-null     int64\n",
      " 75  taiwan hong kong                            84 non-null     int64\n",
      " 76  japan hong kong                             84 non-null     int64\n",
      " 77  korea hong kong                             84 non-null     int64\n",
      " 78  mobile hong kong                            84 non-null     int64\n",
      " 79  eat hong kon                                84 non-null     int64\n",
      " 80  US hong kong                                84 non-null     int64\n",
      " 81  UK hong kong                                84 non-null     int64\n",
      " 82  shopping hong kong                          84 non-null     int64\n",
      " 83  street hong kong                            84 non-null     int64\n",
      " 84  price hong kong                             84 non-null     int64\n",
      " 85  ticket hong kong                            84 non-null     int64\n",
      " 86  train hong kong                             84 non-null     int64\n",
      " 87  bus hong kong                               84 non-null     int64\n",
      " 88  taxi hong kong                              84 non-null     int64\n",
      " 89  holiday hong kong                           84 non-null     int64\n",
      " 90  festival hong kong                          84 non-null     int64\n",
      " 91  hot hong kong                               84 non-null     int64\n",
      " 92  temperature hong kong                       84 non-null     int64\n",
      " 93  bar hong kong                               84 non-null     int64\n",
      " 94  air asia Hong Kong                          84 non-null     int64\n",
      " 95  Yum cha                                     84 non-null     int64\n",
      " 96  Hong Kong Convention and Exhibition Centre  84 non-null     int64\n",
      "dtypes: int64(97)\n",
      "memory usage: 64.3 KB\n"
     ]
    }
   ],
   "source": [
    "arrival.info()"
   ]
  },
  {
   "cell_type": "code",
   "execution_count": 16,
   "metadata": {},
   "outputs": [],
   "source": [
    "def concate_mask(mask_shape, p = 0.05, min_seq=1, max_seq=1):\n",
    "    mask = sample_mask(mask_shape, p, min_seq=min_seq, max_seq=max_seq)\n",
    "    #return mask\n",
    "    return np.vstack([np.zeros((1, m), dtype='uint8'), mask])"
   ]
  },
  {
   "cell_type": "code",
   "execution_count": 28,
   "metadata": {},
   "outputs": [
    {
     "name": "stdout",
     "output_type": "stream",
     "text": [
      "396 797 398 785\n"
     ]
    }
   ],
   "source": [
    "random5  = concate_mask(mask_shape, p = 0.05, min_seq=1, max_seq=1)\n",
    "random10 = concate_mask(mask_shape, p = 0.10, min_seq=1, max_seq=1)\n",
    "block5   = concate_mask(mask_shape, p = 0.006, min_seq=6, max_seq=12)\n",
    "block10  = concate_mask(mask_shape, p = 0.012, min_seq=6, max_seq=12)\n",
    "print(random5.sum(), random10.sum(), block5.sum(), block10.sum())"
   ]
  },
  {
   "cell_type": "code",
   "execution_count": 31,
   "metadata": {},
   "outputs": [
    {
     "data": {
      "text/plain": [
       "array([[0, 0, 0, ..., 0, 0, 0],\n",
       "       [0, 0, 0, ..., 0, 0, 0],\n",
       "       [0, 0, 0, ..., 0, 0, 0],\n",
       "       ...,\n",
       "       [0, 0, 0, ..., 0, 0, 0],\n",
       "       [0, 0, 0, ..., 0, 1, 0],\n",
       "       [0, 0, 0, ..., 0, 0, 0]], dtype=uint8)"
      ]
     },
     "execution_count": 31,
     "metadata": {},
     "output_type": "execute_result"
    }
   ],
   "source": [
    "random5"
   ]
  },
  {
   "cell_type": "code",
   "execution_count": 29,
   "metadata": {},
   "outputs": [],
   "source": [
    "import numpy as np\n",
    "np.save('../../data/masks/random5.npy',random5)\n",
    "np.save('../../data/masks/random10.npy',random10)\n",
    "np.save('../../data/masks/block5.npy',block5)\n",
    "np.save('../../data/masks/block10.npy',block10)"
   ]
  },
  {
   "attachments": {},
   "cell_type": "markdown",
   "metadata": {},
   "source": [
    "## Export Missing dataset"
   ]
  },
  {
   "cell_type": "code",
   "execution_count": 19,
   "metadata": {},
   "outputs": [],
   "source": [
    "import numpy as np\n",
    "import pandas as pd\n",
    "\n",
    "masks = dict(\n",
    "    random5 = np.load('../../data/masks/random5.npy').astype(bool),\n",
    "    random10 = np.load('../../data/masks/random10.npy').astype(bool),\n",
    "    block5 = np.load('../../data/masks/block5.npy').astype(bool),\n",
    "    block10 = np.load('../../data/masks/block10.npy').astype(bool)\n",
    ")\n",
    "datasets = {\n",
    "    'AU': '../../data/open-data/HK2012-2018/Australia.csv',\n",
    "    'PH': '../../data/open-data/HK2012-2018/Philippine.csv',\n",
    "    'SG': '../../data/open-data/HK2012-2018/Singapore.csv',\n",
    "    'TH': '../../data/open-data/HK2012-2018/Thailand.csv',\n",
    "    'UK': '../../data/open-data/HK2012-2018/United_Kingdom.csv',\n",
    "    'US': '../../data/open-data/HK2012-2018/United_States.csv',\n",
    "}"
   ]
  },
  {
   "cell_type": "code",
   "execution_count": 20,
   "metadata": {},
   "outputs": [],
   "source": [
    "from sklearn.preprocessing import MinMaxScaler\n",
    "test_len = 12\n",
    "for country, _path in datasets.items():\n",
    "    data = pd.read_csv(_path,index_col=0, parse_dates=True)\n",
    "    norlizer = MinMaxScaler().fit(data)\n",
    "    for key, mask in masks.items():\n",
    "        miss_data = data.to_numpy(copy=True)\n",
    "        miss_data = norlizer.transform(miss_data)\n",
    "        miss_data[mask] = np.nan\n",
    "        pd.DataFrame(miss_data[:-test_len], columns=data.columns).to_csv(f'../../data/miss_data/{country.lower()}-{key}.csv', index=False)"
   ]
  }
 ],
 "metadata": {
  "kernelspec": {
   "display_name": "tourism-imputation",
   "language": "python",
   "name": "python3"
  },
  "language_info": {
   "codemirror_mode": {
    "name": "ipython",
    "version": 3
   },
   "file_extension": ".py",
   "mimetype": "text/x-python",
   "name": "python",
   "nbconvert_exporter": "python",
   "pygments_lexer": "ipython3",
   "version": "3.8.16"
  },
  "orig_nbformat": 4
 },
 "nbformat": 4,
 "nbformat_minor": 2
}
